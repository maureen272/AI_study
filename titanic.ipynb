{
 "cells": [
  {
   "cell_type": "code",
   "execution_count": 1,
   "id": "02a002de",
   "metadata": {
    "_cell_guid": "b1076dfc-b9ad-4769-8c92-a6c4dae69d19",
    "_uuid": "8f2839f25d086af736a60e9eeb907d3b93b6e0e5",
    "execution": {
     "iopub.execute_input": "2024-05-20T08:18:17.350373Z",
     "iopub.status.busy": "2024-05-20T08:18:17.349882Z",
     "iopub.status.idle": "2024-05-20T08:18:18.343454Z",
     "shell.execute_reply": "2024-05-20T08:18:18.341951Z"
    },
    "papermill": {
     "duration": 1.005061,
     "end_time": "2024-05-20T08:18:18.346381",
     "exception": false,
     "start_time": "2024-05-20T08:18:17.341320",
     "status": "completed"
    },
    "tags": []
   },
   "outputs": [
    {
     "name": "stdout",
     "output_type": "stream",
     "text": [
      "/kaggle/input/titanic/train.csv\n",
      "/kaggle/input/titanic/test.csv\n",
      "/kaggle/input/titanic/gender_submission.csv\n"
     ]
    }
   ],
   "source": [
    "# This Python 3 environment comes with many helpful analytics libraries installed\n",
    "# It is defined by the kaggle/python Docker image: https://github.com/kaggle/docker-python\n",
    "# For example, here's several helpful packages to load\n",
    "\n",
    "import numpy as np # linear algebra\n",
    "import pandas as pd # data processing, CSV file I/O (e.g. pd.read_csv)\n",
    "\n",
    "# Input data files are available in the read-only \"../input/\" directory\n",
    "# For example, running this (by clicking run or pressing Shift+Enter) will list all files under the input directory\n",
    "\n",
    "import os\n",
    "for dirname, _, filenames in os.walk('/kaggle/input'):\n",
    "    for filename in filenames:\n",
    "        print(os.path.join(dirname, filename))\n",
    "\n",
    "# You can write up to 20GB to the current directory (/kaggle/working/) that gets preserved as output when you create a version using \"Save & Run All\" \n",
    "# You can also write temporary files to /kaggle/temp/, but they won't be saved outside of the current session"
   ]
  },
  {
   "cell_type": "markdown",
   "id": "a50bc897",
   "metadata": {
    "papermill": {
     "duration": 0.00625,
     "end_time": "2024-05-20T08:18:18.359224",
     "exception": false,
     "start_time": "2024-05-20T08:18:18.352974",
     "status": "completed"
    },
    "tags": []
   },
   "source": [
    "# 1. 데이터 불러오기"
   ]
  },
  {
   "cell_type": "code",
   "execution_count": 2,
   "id": "21eadd5c",
   "metadata": {
    "execution": {
     "iopub.execute_input": "2024-05-20T08:18:18.374647Z",
     "iopub.status.busy": "2024-05-20T08:18:18.373433Z",
     "iopub.status.idle": "2024-05-20T08:18:19.891028Z",
     "shell.execute_reply": "2024-05-20T08:18:19.890222Z"
    },
    "papermill": {
     "duration": 1.527908,
     "end_time": "2024-05-20T08:18:19.893515",
     "exception": false,
     "start_time": "2024-05-20T08:18:18.365607",
     "status": "completed"
    },
    "tags": []
   },
   "outputs": [],
   "source": [
    "# 데이터 불러오기\n",
    "import pandas as pd\n",
    "import numpy as np\n",
    "import random as rnd\n",
    "import seaborn as sns\n",
    "import matplotlib.pyplot as plt\n",
    "%matplotlib inline"
   ]
  },
  {
   "cell_type": "code",
   "execution_count": 3,
   "id": "9f41c67f",
   "metadata": {
    "execution": {
     "iopub.execute_input": "2024-05-20T08:18:19.909179Z",
     "iopub.status.busy": "2024-05-20T08:18:19.908229Z",
     "iopub.status.idle": "2024-05-20T08:18:20.589691Z",
     "shell.execute_reply": "2024-05-20T08:18:20.588631Z"
    },
    "papermill": {
     "duration": 0.692198,
     "end_time": "2024-05-20T08:18:20.592354",
     "exception": false,
     "start_time": "2024-05-20T08:18:19.900156",
     "status": "completed"
    },
    "tags": []
   },
   "outputs": [],
   "source": [
    "# 머신러닝\n",
    "from sklearn.linear_model import LogisticRegression\n",
    "from sklearn.svm import SVC, LinearSVC\n",
    "from sklearn.ensemble import RandomForestClassifier\n",
    "from sklearn.neighbors import KNeighborsClassifier\n",
    "from sklearn.naive_bayes import GaussianNB\n",
    "from sklearn.linear_model import Perceptron\n",
    "from sklearn.linear_model import SGDClassifier\n",
    "from sklearn.tree import DecisionTreeClassifier\n",
    "\n",
    "import warnings\n",
    "warnings.filterwarnings(action='ignore')"
   ]
  },
  {
   "cell_type": "code",
   "execution_count": 4,
   "id": "5924d852",
   "metadata": {
    "execution": {
     "iopub.execute_input": "2024-05-20T08:18:20.607711Z",
     "iopub.status.busy": "2024-05-20T08:18:20.607092Z",
     "iopub.status.idle": "2024-05-20T08:18:20.636265Z",
     "shell.execute_reply": "2024-05-20T08:18:20.634635Z"
    },
    "papermill": {
     "duration": 0.040316,
     "end_time": "2024-05-20T08:18:20.639226",
     "exception": false,
     "start_time": "2024-05-20T08:18:20.598910",
     "status": "completed"
    },
    "tags": []
   },
   "outputs": [],
   "source": [
    "#data 불러오기\n",
    "train=pd.read_csv(\"/kaggle/input/titanic/train.csv\") #학습용 데이터\n",
    "test=pd.read_csv(\"/kaggle/input/titanic/test.csv\") #테스트용(제출용) 데이터\n",
    "train_test=[train,test]"
   ]
  },
  {
   "cell_type": "markdown",
   "id": "33822337",
   "metadata": {
    "papermill": {
     "duration": 0.00691,
     "end_time": "2024-05-20T08:18:20.653630",
     "exception": false,
     "start_time": "2024-05-20T08:18:20.646720",
     "status": "completed"
    },
    "tags": []
   },
   "source": [
    "# 2. data 분석"
   ]
  },
  {
   "cell_type": "code",
   "execution_count": 5,
   "id": "f2d6817b",
   "metadata": {
    "execution": {
     "iopub.execute_input": "2024-05-20T08:18:20.669346Z",
     "iopub.status.busy": "2024-05-20T08:18:20.668896Z",
     "iopub.status.idle": "2024-05-20T08:18:20.679345Z",
     "shell.execute_reply": "2024-05-20T08:18:20.678429Z"
    },
    "papermill": {
     "duration": 0.02022,
     "end_time": "2024-05-20T08:18:20.681402",
     "exception": false,
     "start_time": "2024-05-20T08:18:20.661182",
     "status": "completed"
    },
    "tags": []
   },
   "outputs": [
    {
     "name": "stdout",
     "output_type": "stream",
     "text": [
      "['PassengerId' 'Survived' 'Pclass' 'Name' 'Sex' 'Age' 'SibSp' 'Parch'\n",
      " 'Ticket' 'Fare' 'Cabin' 'Embarked']\n"
     ]
    },
    {
     "data": {
      "text/plain": [
       "' \\nPassengerId : 각 승객의 고유 번호\\nSurvived : 생존 여부(종속 변수)\\n    0 = 사망\\n    1 = 생존\\nPclass : 객실 등급 - 승객의 사회적, 경제적 지위\\n    1st = Upper\\n    2nd = Middle\\n    3rd = Lower\\nName : 이름\\nSex : 성별\\nAge : 나이\\nSibSp : 동반한 Sibling와 Spouse의 수\\nParch : 동반한 Parent와 Child의 수\\nTicket : 티켓의 고유넘버\\nFare : 티켓의 요금\\nCabin : 객실 번호\\nEmbarked : 승선한 항\\n    C = Cherbourg\\n    Q = Queenstown\\n    S = Southampton'"
      ]
     },
     "execution_count": 5,
     "metadata": {},
     "output_type": "execute_result"
    }
   ],
   "source": [
    "# 변수 보기\n",
    "print(train.columns.values)\n",
    "\n",
    "#변수설명\n",
    "''' \n",
    "PassengerId : 각 승객의 고유 번호\n",
    "Survived : 생존 여부(종속 변수)\n",
    "    0 = 사망\n",
    "    1 = 생존\n",
    "Pclass : 객실 등급 - 승객의 사회적, 경제적 지위\n",
    "    1st = Upper\n",
    "    2nd = Middle\n",
    "    3rd = Lower\n",
    "Name : 이름\n",
    "Sex : 성별\n",
    "Age : 나이\n",
    "SibSp : 동반한 Sibling와 Spouse의 수\n",
    "Parch : 동반한 Parent와 Child의 수\n",
    "Ticket : 티켓의 고유넘버\n",
    "Fare : 티켓의 요금\n",
    "Cabin : 객실 번호\n",
    "Embarked : 승선한 항\n",
    "    C = Cherbourg\n",
    "    Q = Queenstown\n",
    "    S = Southampton'''"
   ]
  },
  {
   "cell_type": "code",
   "execution_count": 6,
   "id": "1f0cfa1d",
   "metadata": {
    "execution": {
     "iopub.execute_input": "2024-05-20T08:18:20.696897Z",
     "iopub.status.busy": "2024-05-20T08:18:20.696250Z",
     "iopub.status.idle": "2024-05-20T08:18:20.720501Z",
     "shell.execute_reply": "2024-05-20T08:18:20.719466Z"
    },
    "papermill": {
     "duration": 0.034845,
     "end_time": "2024-05-20T08:18:20.722855",
     "exception": false,
     "start_time": "2024-05-20T08:18:20.688010",
     "status": "completed"
    },
    "tags": []
   },
   "outputs": [
    {
     "data": {
      "text/html": [
       "<div>\n",
       "<style scoped>\n",
       "    .dataframe tbody tr th:only-of-type {\n",
       "        vertical-align: middle;\n",
       "    }\n",
       "\n",
       "    .dataframe tbody tr th {\n",
       "        vertical-align: top;\n",
       "    }\n",
       "\n",
       "    .dataframe thead th {\n",
       "        text-align: right;\n",
       "    }\n",
       "</style>\n",
       "<table border=\"1\" class=\"dataframe\">\n",
       "  <thead>\n",
       "    <tr style=\"text-align: right;\">\n",
       "      <th></th>\n",
       "      <th>PassengerId</th>\n",
       "      <th>Survived</th>\n",
       "      <th>Pclass</th>\n",
       "      <th>Name</th>\n",
       "      <th>Sex</th>\n",
       "      <th>Age</th>\n",
       "      <th>SibSp</th>\n",
       "      <th>Parch</th>\n",
       "      <th>Ticket</th>\n",
       "      <th>Fare</th>\n",
       "      <th>Cabin</th>\n",
       "      <th>Embarked</th>\n",
       "    </tr>\n",
       "  </thead>\n",
       "  <tbody>\n",
       "    <tr>\n",
       "      <th>0</th>\n",
       "      <td>1</td>\n",
       "      <td>0</td>\n",
       "      <td>3</td>\n",
       "      <td>Braund, Mr. Owen Harris</td>\n",
       "      <td>male</td>\n",
       "      <td>22.0</td>\n",
       "      <td>1</td>\n",
       "      <td>0</td>\n",
       "      <td>A/5 21171</td>\n",
       "      <td>7.2500</td>\n",
       "      <td>NaN</td>\n",
       "      <td>S</td>\n",
       "    </tr>\n",
       "    <tr>\n",
       "      <th>1</th>\n",
       "      <td>2</td>\n",
       "      <td>1</td>\n",
       "      <td>1</td>\n",
       "      <td>Cumings, Mrs. John Bradley (Florence Briggs Th...</td>\n",
       "      <td>female</td>\n",
       "      <td>38.0</td>\n",
       "      <td>1</td>\n",
       "      <td>0</td>\n",
       "      <td>PC 17599</td>\n",
       "      <td>71.2833</td>\n",
       "      <td>C85</td>\n",
       "      <td>C</td>\n",
       "    </tr>\n",
       "    <tr>\n",
       "      <th>2</th>\n",
       "      <td>3</td>\n",
       "      <td>1</td>\n",
       "      <td>3</td>\n",
       "      <td>Heikkinen, Miss. Laina</td>\n",
       "      <td>female</td>\n",
       "      <td>26.0</td>\n",
       "      <td>0</td>\n",
       "      <td>0</td>\n",
       "      <td>STON/O2. 3101282</td>\n",
       "      <td>7.9250</td>\n",
       "      <td>NaN</td>\n",
       "      <td>S</td>\n",
       "    </tr>\n",
       "    <tr>\n",
       "      <th>3</th>\n",
       "      <td>4</td>\n",
       "      <td>1</td>\n",
       "      <td>1</td>\n",
       "      <td>Futrelle, Mrs. Jacques Heath (Lily May Peel)</td>\n",
       "      <td>female</td>\n",
       "      <td>35.0</td>\n",
       "      <td>1</td>\n",
       "      <td>0</td>\n",
       "      <td>113803</td>\n",
       "      <td>53.1000</td>\n",
       "      <td>C123</td>\n",
       "      <td>S</td>\n",
       "    </tr>\n",
       "    <tr>\n",
       "      <th>4</th>\n",
       "      <td>5</td>\n",
       "      <td>0</td>\n",
       "      <td>3</td>\n",
       "      <td>Allen, Mr. William Henry</td>\n",
       "      <td>male</td>\n",
       "      <td>35.0</td>\n",
       "      <td>0</td>\n",
       "      <td>0</td>\n",
       "      <td>373450</td>\n",
       "      <td>8.0500</td>\n",
       "      <td>NaN</td>\n",
       "      <td>S</td>\n",
       "    </tr>\n",
       "  </tbody>\n",
       "</table>\n",
       "</div>"
      ],
      "text/plain": [
       "   PassengerId  Survived  Pclass  \\\n",
       "0            1         0       3   \n",
       "1            2         1       1   \n",
       "2            3         1       3   \n",
       "3            4         1       1   \n",
       "4            5         0       3   \n",
       "\n",
       "                                                Name     Sex   Age  SibSp  \\\n",
       "0                            Braund, Mr. Owen Harris    male  22.0      1   \n",
       "1  Cumings, Mrs. John Bradley (Florence Briggs Th...  female  38.0      1   \n",
       "2                             Heikkinen, Miss. Laina  female  26.0      0   \n",
       "3       Futrelle, Mrs. Jacques Heath (Lily May Peel)  female  35.0      1   \n",
       "4                           Allen, Mr. William Henry    male  35.0      0   \n",
       "\n",
       "   Parch            Ticket     Fare Cabin Embarked  \n",
       "0      0         A/5 21171   7.2500   NaN        S  \n",
       "1      0          PC 17599  71.2833   C85        C  \n",
       "2      0  STON/O2. 3101282   7.9250   NaN        S  \n",
       "3      0            113803  53.1000  C123        S  \n",
       "4      0            373450   8.0500   NaN        S  "
      ]
     },
     "execution_count": 6,
     "metadata": {},
     "output_type": "execute_result"
    }
   ],
   "source": [
    "train.head()"
   ]
  },
  {
   "cell_type": "code",
   "execution_count": 7,
   "id": "0a4ada66",
   "metadata": {
    "execution": {
     "iopub.execute_input": "2024-05-20T08:18:20.739371Z",
     "iopub.status.busy": "2024-05-20T08:18:20.738554Z",
     "iopub.status.idle": "2024-05-20T08:18:20.767861Z",
     "shell.execute_reply": "2024-05-20T08:18:20.766396Z"
    },
    "papermill": {
     "duration": 0.040592,
     "end_time": "2024-05-20T08:18:20.770596",
     "exception": false,
     "start_time": "2024-05-20T08:18:20.730004",
     "status": "completed"
    },
    "tags": []
   },
   "outputs": [
    {
     "name": "stdout",
     "output_type": "stream",
     "text": [
      "<class 'pandas.core.frame.DataFrame'>\n",
      "RangeIndex: 891 entries, 0 to 890\n",
      "Data columns (total 12 columns):\n",
      " #   Column       Non-Null Count  Dtype  \n",
      "---  ------       --------------  -----  \n",
      " 0   PassengerId  891 non-null    int64  \n",
      " 1   Survived     891 non-null    int64  \n",
      " 2   Pclass       891 non-null    int64  \n",
      " 3   Name         891 non-null    object \n",
      " 4   Sex          891 non-null    object \n",
      " 5   Age          714 non-null    float64\n",
      " 6   SibSp        891 non-null    int64  \n",
      " 7   Parch        891 non-null    int64  \n",
      " 8   Ticket       891 non-null    object \n",
      " 9   Fare         891 non-null    float64\n",
      " 10  Cabin        204 non-null    object \n",
      " 11  Embarked     889 non-null    object \n",
      "dtypes: float64(2), int64(5), object(5)\n",
      "memory usage: 83.7+ KB\n"
     ]
    }
   ],
   "source": [
    "train.info() #데이터 type과 null유무확인"
   ]
  },
  {
   "cell_type": "markdown",
   "id": "2129d027",
   "metadata": {
    "papermill": {
     "duration": 0.007507,
     "end_time": "2024-05-20T08:18:20.785233",
     "exception": false,
     "start_time": "2024-05-20T08:18:20.777726",
     "status": "completed"
    },
    "tags": []
   },
   "source": [
    "# 데이터분석"
   ]
  },
  {
   "cell_type": "markdown",
   "id": "06dbd9cf",
   "metadata": {
    "papermill": {
     "duration": 0.007833,
     "end_time": "2024-05-20T08:18:20.800174",
     "exception": false,
     "start_time": "2024-05-20T08:18:20.792341",
     "status": "completed"
    },
    "tags": []
   },
   "source": [
    "age, cabin,embarked 값은 null값이 존재 >> 나중에 값을 넣어줘야함"
   ]
  },
  {
   "cell_type": "code",
   "execution_count": 8,
   "id": "da5e7eb5",
   "metadata": {
    "execution": {
     "iopub.execute_input": "2024-05-20T08:18:20.815872Z",
     "iopub.status.busy": "2024-05-20T08:18:20.815467Z",
     "iopub.status.idle": "2024-05-20T08:18:20.827644Z",
     "shell.execute_reply": "2024-05-20T08:18:20.826365Z"
    },
    "papermill": {
     "duration": 0.023809,
     "end_time": "2024-05-20T08:18:20.831079",
     "exception": false,
     "start_time": "2024-05-20T08:18:20.807270",
     "status": "completed"
    },
    "tags": []
   },
   "outputs": [
    {
     "name": "stdout",
     "output_type": "stream",
     "text": [
      "<class 'pandas.core.frame.DataFrame'>\n",
      "RangeIndex: 418 entries, 0 to 417\n",
      "Data columns (total 11 columns):\n",
      " #   Column       Non-Null Count  Dtype  \n",
      "---  ------       --------------  -----  \n",
      " 0   PassengerId  418 non-null    int64  \n",
      " 1   Pclass       418 non-null    int64  \n",
      " 2   Name         418 non-null    object \n",
      " 3   Sex          418 non-null    object \n",
      " 4   Age          332 non-null    float64\n",
      " 5   SibSp        418 non-null    int64  \n",
      " 6   Parch        418 non-null    int64  \n",
      " 7   Ticket       418 non-null    object \n",
      " 8   Fare         417 non-null    float64\n",
      " 9   Cabin        91 non-null     object \n",
      " 10  Embarked     418 non-null    object \n",
      "dtypes: float64(2), int64(4), object(5)\n",
      "memory usage: 36.0+ KB\n"
     ]
    }
   ],
   "source": [
    "test.info()"
   ]
  },
  {
   "cell_type": "code",
   "execution_count": 9,
   "id": "0649e493",
   "metadata": {
    "execution": {
     "iopub.execute_input": "2024-05-20T08:18:20.847276Z",
     "iopub.status.busy": "2024-05-20T08:18:20.846868Z",
     "iopub.status.idle": "2024-05-20T08:18:20.876184Z",
     "shell.execute_reply": "2024-05-20T08:18:20.875123Z"
    },
    "papermill": {
     "duration": 0.040546,
     "end_time": "2024-05-20T08:18:20.878706",
     "exception": false,
     "start_time": "2024-05-20T08:18:20.838160",
     "status": "completed"
    },
    "tags": []
   },
   "outputs": [
    {
     "data": {
      "text/html": [
       "<div>\n",
       "<style scoped>\n",
       "    .dataframe tbody tr th:only-of-type {\n",
       "        vertical-align: middle;\n",
       "    }\n",
       "\n",
       "    .dataframe tbody tr th {\n",
       "        vertical-align: top;\n",
       "    }\n",
       "\n",
       "    .dataframe thead th {\n",
       "        text-align: right;\n",
       "    }\n",
       "</style>\n",
       "<table border=\"1\" class=\"dataframe\">\n",
       "  <thead>\n",
       "    <tr style=\"text-align: right;\">\n",
       "      <th></th>\n",
       "      <th>PassengerId</th>\n",
       "      <th>Survived</th>\n",
       "      <th>Pclass</th>\n",
       "      <th>Age</th>\n",
       "      <th>SibSp</th>\n",
       "      <th>Parch</th>\n",
       "      <th>Fare</th>\n",
       "    </tr>\n",
       "  </thead>\n",
       "  <tbody>\n",
       "    <tr>\n",
       "      <th>count</th>\n",
       "      <td>891.000000</td>\n",
       "      <td>891.000000</td>\n",
       "      <td>891.000000</td>\n",
       "      <td>714.000000</td>\n",
       "      <td>891.000000</td>\n",
       "      <td>891.000000</td>\n",
       "      <td>891.000000</td>\n",
       "    </tr>\n",
       "    <tr>\n",
       "      <th>mean</th>\n",
       "      <td>446.000000</td>\n",
       "      <td>0.383838</td>\n",
       "      <td>2.308642</td>\n",
       "      <td>29.699118</td>\n",
       "      <td>0.523008</td>\n",
       "      <td>0.381594</td>\n",
       "      <td>32.204208</td>\n",
       "    </tr>\n",
       "    <tr>\n",
       "      <th>std</th>\n",
       "      <td>257.353842</td>\n",
       "      <td>0.486592</td>\n",
       "      <td>0.836071</td>\n",
       "      <td>14.526497</td>\n",
       "      <td>1.102743</td>\n",
       "      <td>0.806057</td>\n",
       "      <td>49.693429</td>\n",
       "    </tr>\n",
       "    <tr>\n",
       "      <th>min</th>\n",
       "      <td>1.000000</td>\n",
       "      <td>0.000000</td>\n",
       "      <td>1.000000</td>\n",
       "      <td>0.420000</td>\n",
       "      <td>0.000000</td>\n",
       "      <td>0.000000</td>\n",
       "      <td>0.000000</td>\n",
       "    </tr>\n",
       "    <tr>\n",
       "      <th>25%</th>\n",
       "      <td>223.500000</td>\n",
       "      <td>0.000000</td>\n",
       "      <td>2.000000</td>\n",
       "      <td>20.125000</td>\n",
       "      <td>0.000000</td>\n",
       "      <td>0.000000</td>\n",
       "      <td>7.910400</td>\n",
       "    </tr>\n",
       "    <tr>\n",
       "      <th>50%</th>\n",
       "      <td>446.000000</td>\n",
       "      <td>0.000000</td>\n",
       "      <td>3.000000</td>\n",
       "      <td>28.000000</td>\n",
       "      <td>0.000000</td>\n",
       "      <td>0.000000</td>\n",
       "      <td>14.454200</td>\n",
       "    </tr>\n",
       "    <tr>\n",
       "      <th>75%</th>\n",
       "      <td>668.500000</td>\n",
       "      <td>1.000000</td>\n",
       "      <td>3.000000</td>\n",
       "      <td>38.000000</td>\n",
       "      <td>1.000000</td>\n",
       "      <td>0.000000</td>\n",
       "      <td>31.000000</td>\n",
       "    </tr>\n",
       "    <tr>\n",
       "      <th>max</th>\n",
       "      <td>891.000000</td>\n",
       "      <td>1.000000</td>\n",
       "      <td>3.000000</td>\n",
       "      <td>80.000000</td>\n",
       "      <td>8.000000</td>\n",
       "      <td>6.000000</td>\n",
       "      <td>512.329200</td>\n",
       "    </tr>\n",
       "  </tbody>\n",
       "</table>\n",
       "</div>"
      ],
      "text/plain": [
       "       PassengerId    Survived      Pclass         Age       SibSp  \\\n",
       "count   891.000000  891.000000  891.000000  714.000000  891.000000   \n",
       "mean    446.000000    0.383838    2.308642   29.699118    0.523008   \n",
       "std     257.353842    0.486592    0.836071   14.526497    1.102743   \n",
       "min       1.000000    0.000000    1.000000    0.420000    0.000000   \n",
       "25%     223.500000    0.000000    2.000000   20.125000    0.000000   \n",
       "50%     446.000000    0.000000    3.000000   28.000000    0.000000   \n",
       "75%     668.500000    1.000000    3.000000   38.000000    1.000000   \n",
       "max     891.000000    1.000000    3.000000   80.000000    8.000000   \n",
       "\n",
       "            Parch        Fare  \n",
       "count  891.000000  891.000000  \n",
       "mean     0.381594   32.204208  \n",
       "std      0.806057   49.693429  \n",
       "min      0.000000    0.000000  \n",
       "25%      0.000000    7.910400  \n",
       "50%      0.000000   14.454200  \n",
       "75%      0.000000   31.000000  \n",
       "max      6.000000  512.329200  "
      ]
     },
     "execution_count": 9,
     "metadata": {},
     "output_type": "execute_result"
    }
   ],
   "source": [
    "train.describe()"
   ]
  },
  {
   "cell_type": "markdown",
   "id": "a5037db9",
   "metadata": {
    "papermill": {
     "duration": 0.006956,
     "end_time": "2024-05-20T08:18:20.892931",
     "exception": false,
     "start_time": "2024-05-20T08:18:20.885975",
     "status": "completed"
    },
    "tags": []
   },
   "source": [
    "# 3. Data 전처리"
   ]
  },
  {
   "cell_type": "code",
   "execution_count": 10,
   "id": "82209cb0",
   "metadata": {
    "execution": {
     "iopub.execute_input": "2024-05-20T08:18:20.909262Z",
     "iopub.status.busy": "2024-05-20T08:18:20.908868Z",
     "iopub.status.idle": "2024-05-20T08:18:20.931429Z",
     "shell.execute_reply": "2024-05-20T08:18:20.930213Z"
    },
    "papermill": {
     "duration": 0.034115,
     "end_time": "2024-05-20T08:18:20.934310",
     "exception": false,
     "start_time": "2024-05-20T08:18:20.900195",
     "status": "completed"
    },
    "tags": []
   },
   "outputs": [],
   "source": [
    "train_test_data = [train, test]\n",
    "\n",
    "# Sex 전처리\n",
    "sex_mapping = {\"male\":0, \"female\":1}\n",
    "for dataset in train_test_data:\n",
    "    dataset['Sex'] = dataset['Sex'].map(sex_mapping)\n",
    "\n",
    "# SibSp & Parch 전처리\n",
    "for dataset in train_test_data:\n",
    "    # 가족수 = 형제자매 + 부모님 + 자녀 + 본인\n",
    "    dataset['FamilySize'] = dataset['SibSp'] + dataset['Parch'] + 1\n",
    "    dataset['IsAlone'] = 1\n",
    "    \n",
    "    # 가족수 > 1이면 동승자 있음\n",
    "    dataset.loc[dataset['FamilySize'] > 1, 'IsAlone'] = 0\n",
    "    \n",
    "# Embarked 전처리\n",
    "for dataset in train_test_data:\n",
    "    dataset['Embarked'] = dataset['Embarked'].fillna('S')\n",
    "\n",
    "embarked_mapping = {'S':0, 'C':1, 'Q':2}\n",
    "for dataset in train_test_data:\n",
    "    dataset['Embarked'] = dataset['Embarked'].map(embarked_mapping)\n",
    "    \n",
    "# Name 전처리\n",
    "for dataset in train_test_data:\n",
    "    dataset['Title'] = dataset['Name'].str.extract('([\\w]+)\\.', expand=False)\n",
    "\n",
    "for dataset in train_test_data:\n",
    "    dataset['Title'] = dataset['Title'].apply(lambda x: 0 if x==\"Mr\" else 1 if x==\"Miss\" else 2 if x==\"Mrs\" else 3 if x==\"Master\" else 4)"
   ]
  },
  {
   "cell_type": "code",
   "execution_count": 11,
   "id": "56952d2d",
   "metadata": {
    "execution": {
     "iopub.execute_input": "2024-05-20T08:18:20.950915Z",
     "iopub.status.busy": "2024-05-20T08:18:20.950542Z",
     "iopub.status.idle": "2024-05-20T08:18:20.981456Z",
     "shell.execute_reply": "2024-05-20T08:18:20.980221Z"
    },
    "papermill": {
     "duration": 0.042036,
     "end_time": "2024-05-20T08:18:20.983855",
     "exception": false,
     "start_time": "2024-05-20T08:18:20.941819",
     "status": "completed"
    },
    "tags": []
   },
   "outputs": [
    {
     "data": {
      "text/html": [
       "<div>\n",
       "<style scoped>\n",
       "    .dataframe tbody tr th:only-of-type {\n",
       "        vertical-align: middle;\n",
       "    }\n",
       "\n",
       "    .dataframe tbody tr th {\n",
       "        vertical-align: top;\n",
       "    }\n",
       "\n",
       "    .dataframe thead th {\n",
       "        text-align: right;\n",
       "    }\n",
       "</style>\n",
       "<table border=\"1\" class=\"dataframe\">\n",
       "  <thead>\n",
       "    <tr style=\"text-align: right;\">\n",
       "      <th></th>\n",
       "      <th>PassengerId</th>\n",
       "      <th>Survived</th>\n",
       "      <th>Pclass</th>\n",
       "      <th>Name</th>\n",
       "      <th>Sex</th>\n",
       "      <th>Age</th>\n",
       "      <th>SibSp</th>\n",
       "      <th>Parch</th>\n",
       "      <th>Ticket</th>\n",
       "      <th>Fare</th>\n",
       "      <th>Cabin</th>\n",
       "      <th>Embarked</th>\n",
       "      <th>FamilySize</th>\n",
       "      <th>IsAlone</th>\n",
       "      <th>Title</th>\n",
       "      <th>AgeScale</th>\n",
       "    </tr>\n",
       "  </thead>\n",
       "  <tbody>\n",
       "    <tr>\n",
       "      <th>0</th>\n",
       "      <td>1</td>\n",
       "      <td>0</td>\n",
       "      <td>3</td>\n",
       "      <td>Braund, Mr. Owen Harris</td>\n",
       "      <td>0</td>\n",
       "      <td>22.0</td>\n",
       "      <td>1</td>\n",
       "      <td>0</td>\n",
       "      <td>A/5 21171</td>\n",
       "      <td>7.2500</td>\n",
       "      <td>NaN</td>\n",
       "      <td>0</td>\n",
       "      <td>2</td>\n",
       "      <td>0</td>\n",
       "      <td>0</td>\n",
       "      <td>0.271174</td>\n",
       "    </tr>\n",
       "    <tr>\n",
       "      <th>1</th>\n",
       "      <td>2</td>\n",
       "      <td>1</td>\n",
       "      <td>1</td>\n",
       "      <td>Cumings, Mrs. John Bradley (Florence Briggs Th...</td>\n",
       "      <td>1</td>\n",
       "      <td>38.0</td>\n",
       "      <td>1</td>\n",
       "      <td>0</td>\n",
       "      <td>PC 17599</td>\n",
       "      <td>71.2833</td>\n",
       "      <td>C85</td>\n",
       "      <td>1</td>\n",
       "      <td>2</td>\n",
       "      <td>0</td>\n",
       "      <td>2</td>\n",
       "      <td>0.472229</td>\n",
       "    </tr>\n",
       "    <tr>\n",
       "      <th>2</th>\n",
       "      <td>3</td>\n",
       "      <td>1</td>\n",
       "      <td>3</td>\n",
       "      <td>Heikkinen, Miss. Laina</td>\n",
       "      <td>1</td>\n",
       "      <td>26.0</td>\n",
       "      <td>0</td>\n",
       "      <td>0</td>\n",
       "      <td>STON/O2. 3101282</td>\n",
       "      <td>7.9250</td>\n",
       "      <td>NaN</td>\n",
       "      <td>0</td>\n",
       "      <td>1</td>\n",
       "      <td>1</td>\n",
       "      <td>1</td>\n",
       "      <td>0.321438</td>\n",
       "    </tr>\n",
       "    <tr>\n",
       "      <th>3</th>\n",
       "      <td>4</td>\n",
       "      <td>1</td>\n",
       "      <td>1</td>\n",
       "      <td>Futrelle, Mrs. Jacques Heath (Lily May Peel)</td>\n",
       "      <td>1</td>\n",
       "      <td>35.0</td>\n",
       "      <td>1</td>\n",
       "      <td>0</td>\n",
       "      <td>113803</td>\n",
       "      <td>53.1000</td>\n",
       "      <td>C123</td>\n",
       "      <td>0</td>\n",
       "      <td>2</td>\n",
       "      <td>0</td>\n",
       "      <td>2</td>\n",
       "      <td>0.434531</td>\n",
       "    </tr>\n",
       "    <tr>\n",
       "      <th>4</th>\n",
       "      <td>5</td>\n",
       "      <td>0</td>\n",
       "      <td>3</td>\n",
       "      <td>Allen, Mr. William Henry</td>\n",
       "      <td>0</td>\n",
       "      <td>35.0</td>\n",
       "      <td>0</td>\n",
       "      <td>0</td>\n",
       "      <td>373450</td>\n",
       "      <td>8.0500</td>\n",
       "      <td>NaN</td>\n",
       "      <td>0</td>\n",
       "      <td>1</td>\n",
       "      <td>1</td>\n",
       "      <td>0</td>\n",
       "      <td>0.434531</td>\n",
       "    </tr>\n",
       "  </tbody>\n",
       "</table>\n",
       "</div>"
      ],
      "text/plain": [
       "   PassengerId  Survived  Pclass  \\\n",
       "0            1         0       3   \n",
       "1            2         1       1   \n",
       "2            3         1       3   \n",
       "3            4         1       1   \n",
       "4            5         0       3   \n",
       "\n",
       "                                                Name  Sex   Age  SibSp  Parch  \\\n",
       "0                            Braund, Mr. Owen Harris    0  22.0      1      0   \n",
       "1  Cumings, Mrs. John Bradley (Florence Briggs Th...    1  38.0      1      0   \n",
       "2                             Heikkinen, Miss. Laina    1  26.0      0      0   \n",
       "3       Futrelle, Mrs. Jacques Heath (Lily May Peel)    1  35.0      1      0   \n",
       "4                           Allen, Mr. William Henry    0  35.0      0      0   \n",
       "\n",
       "             Ticket     Fare Cabin  Embarked  FamilySize  IsAlone  Title  \\\n",
       "0         A/5 21171   7.2500   NaN         0           2        0      0   \n",
       "1          PC 17599  71.2833   C85         1           2        0      2   \n",
       "2  STON/O2. 3101282   7.9250   NaN         0           1        1      1   \n",
       "3            113803  53.1000  C123         0           2        0      2   \n",
       "4            373450   8.0500   NaN         0           1        1      0   \n",
       "\n",
       "   AgeScale  \n",
       "0  0.271174  \n",
       "1  0.472229  \n",
       "2  0.321438  \n",
       "3  0.434531  \n",
       "4  0.434531  "
      ]
     },
     "execution_count": 11,
     "metadata": {},
     "output_type": "execute_result"
    }
   ],
   "source": [
    "# 결측치 제거\n",
    "for dataset in train_test_data:\n",
    "    dataset['Age'].fillna(dataset.groupby(\"Title\")[\"Age\"].transform(\"median\"), inplace=True)\n",
    "    \n",
    "# min-max 스케일링\n",
    "#각 데이터에서 최소값을 뺀 뒤 범위(max - min)로 나누어 모든 데이터를 0~1 사이에 오도록 만드는 방법이다. 상한과 하한이 확실히 정해지는 장점\n",
    "from sklearn.preprocessing import MinMaxScaler\n",
    "\n",
    "scaler = MinMaxScaler()\n",
    "for dataset in train_test_data:\n",
    "    array = dataset['Age'].values.reshape(-1,1) # 2D array로 변환\n",
    "    scaler.fit(array) # 스케일링에 필요한 값(최소값, range 등) 계산\n",
    "    dataset['AgeScale'] = pd.Series(scaler.transform(array).reshape(-1)) # 스케일링 후 series로 추가\n",
    "    \n",
    "train.head()"
   ]
  },
  {
   "cell_type": "code",
   "execution_count": 12,
   "id": "4ae9183d",
   "metadata": {
    "execution": {
     "iopub.execute_input": "2024-05-20T08:18:21.000768Z",
     "iopub.status.busy": "2024-05-20T08:18:21.000409Z",
     "iopub.status.idle": "2024-05-20T08:18:21.027040Z",
     "shell.execute_reply": "2024-05-20T08:18:21.025930Z"
    },
    "papermill": {
     "duration": 0.037665,
     "end_time": "2024-05-20T08:18:21.029210",
     "exception": false,
     "start_time": "2024-05-20T08:18:20.991545",
     "status": "completed"
    },
    "tags": []
   },
   "outputs": [
    {
     "data": {
      "text/html": [
       "<div>\n",
       "<style scoped>\n",
       "    .dataframe tbody tr th:only-of-type {\n",
       "        vertical-align: middle;\n",
       "    }\n",
       "\n",
       "    .dataframe tbody tr th {\n",
       "        vertical-align: top;\n",
       "    }\n",
       "\n",
       "    .dataframe thead th {\n",
       "        text-align: right;\n",
       "    }\n",
       "</style>\n",
       "<table border=\"1\" class=\"dataframe\">\n",
       "  <thead>\n",
       "    <tr style=\"text-align: right;\">\n",
       "      <th></th>\n",
       "      <th>PassengerId</th>\n",
       "      <th>Survived</th>\n",
       "      <th>Pclass</th>\n",
       "      <th>Name</th>\n",
       "      <th>Sex</th>\n",
       "      <th>Age</th>\n",
       "      <th>SibSp</th>\n",
       "      <th>Parch</th>\n",
       "      <th>Ticket</th>\n",
       "      <th>Fare</th>\n",
       "      <th>Cabin</th>\n",
       "      <th>Embarked</th>\n",
       "      <th>FamilySize</th>\n",
       "      <th>IsAlone</th>\n",
       "      <th>Title</th>\n",
       "      <th>AgeScale</th>\n",
       "      <th>FareScale</th>\n",
       "    </tr>\n",
       "  </thead>\n",
       "  <tbody>\n",
       "    <tr>\n",
       "      <th>0</th>\n",
       "      <td>1</td>\n",
       "      <td>0</td>\n",
       "      <td>3</td>\n",
       "      <td>Braund, Mr. Owen Harris</td>\n",
       "      <td>0</td>\n",
       "      <td>22.0</td>\n",
       "      <td>1</td>\n",
       "      <td>0</td>\n",
       "      <td>A/5 21171</td>\n",
       "      <td>7.2500</td>\n",
       "      <td>NaN</td>\n",
       "      <td>0</td>\n",
       "      <td>2</td>\n",
       "      <td>0</td>\n",
       "      <td>0</td>\n",
       "      <td>0.271174</td>\n",
       "      <td>-0.502445</td>\n",
       "    </tr>\n",
       "    <tr>\n",
       "      <th>1</th>\n",
       "      <td>2</td>\n",
       "      <td>1</td>\n",
       "      <td>1</td>\n",
       "      <td>Cumings, Mrs. John Bradley (Florence Briggs Th...</td>\n",
       "      <td>1</td>\n",
       "      <td>38.0</td>\n",
       "      <td>1</td>\n",
       "      <td>0</td>\n",
       "      <td>PC 17599</td>\n",
       "      <td>71.2833</td>\n",
       "      <td>C85</td>\n",
       "      <td>1</td>\n",
       "      <td>2</td>\n",
       "      <td>0</td>\n",
       "      <td>2</td>\n",
       "      <td>0.472229</td>\n",
       "      <td>0.786845</td>\n",
       "    </tr>\n",
       "    <tr>\n",
       "      <th>2</th>\n",
       "      <td>3</td>\n",
       "      <td>1</td>\n",
       "      <td>3</td>\n",
       "      <td>Heikkinen, Miss. Laina</td>\n",
       "      <td>1</td>\n",
       "      <td>26.0</td>\n",
       "      <td>0</td>\n",
       "      <td>0</td>\n",
       "      <td>STON/O2. 3101282</td>\n",
       "      <td>7.9250</td>\n",
       "      <td>NaN</td>\n",
       "      <td>0</td>\n",
       "      <td>1</td>\n",
       "      <td>1</td>\n",
       "      <td>1</td>\n",
       "      <td>0.321438</td>\n",
       "      <td>-0.488854</td>\n",
       "    </tr>\n",
       "    <tr>\n",
       "      <th>3</th>\n",
       "      <td>4</td>\n",
       "      <td>1</td>\n",
       "      <td>1</td>\n",
       "      <td>Futrelle, Mrs. Jacques Heath (Lily May Peel)</td>\n",
       "      <td>1</td>\n",
       "      <td>35.0</td>\n",
       "      <td>1</td>\n",
       "      <td>0</td>\n",
       "      <td>113803</td>\n",
       "      <td>53.1000</td>\n",
       "      <td>C123</td>\n",
       "      <td>0</td>\n",
       "      <td>2</td>\n",
       "      <td>0</td>\n",
       "      <td>2</td>\n",
       "      <td>0.434531</td>\n",
       "      <td>0.420730</td>\n",
       "    </tr>\n",
       "    <tr>\n",
       "      <th>4</th>\n",
       "      <td>5</td>\n",
       "      <td>0</td>\n",
       "      <td>3</td>\n",
       "      <td>Allen, Mr. William Henry</td>\n",
       "      <td>0</td>\n",
       "      <td>35.0</td>\n",
       "      <td>0</td>\n",
       "      <td>0</td>\n",
       "      <td>373450</td>\n",
       "      <td>8.0500</td>\n",
       "      <td>NaN</td>\n",
       "      <td>0</td>\n",
       "      <td>1</td>\n",
       "      <td>1</td>\n",
       "      <td>0</td>\n",
       "      <td>0.434531</td>\n",
       "      <td>-0.486337</td>\n",
       "    </tr>\n",
       "  </tbody>\n",
       "</table>\n",
       "</div>"
      ],
      "text/plain": [
       "   PassengerId  Survived  Pclass  \\\n",
       "0            1         0       3   \n",
       "1            2         1       1   \n",
       "2            3         1       3   \n",
       "3            4         1       1   \n",
       "4            5         0       3   \n",
       "\n",
       "                                                Name  Sex   Age  SibSp  Parch  \\\n",
       "0                            Braund, Mr. Owen Harris    0  22.0      1      0   \n",
       "1  Cumings, Mrs. John Bradley (Florence Briggs Th...    1  38.0      1      0   \n",
       "2                             Heikkinen, Miss. Laina    1  26.0      0      0   \n",
       "3       Futrelle, Mrs. Jacques Heath (Lily May Peel)    1  35.0      1      0   \n",
       "4                           Allen, Mr. William Henry    0  35.0      0      0   \n",
       "\n",
       "             Ticket     Fare Cabin  Embarked  FamilySize  IsAlone  Title  \\\n",
       "0         A/5 21171   7.2500   NaN         0           2        0      0   \n",
       "1          PC 17599  71.2833   C85         1           2        0      2   \n",
       "2  STON/O2. 3101282   7.9250   NaN         0           1        1      1   \n",
       "3            113803  53.1000  C123         0           2        0      2   \n",
       "4            373450   8.0500   NaN         0           1        1      0   \n",
       "\n",
       "   AgeScale  FareScale  \n",
       "0  0.271174  -0.502445  \n",
       "1  0.472229   0.786845  \n",
       "2  0.321438  -0.488854  \n",
       "3  0.434531   0.420730  \n",
       "4  0.434531  -0.486337  "
      ]
     },
     "execution_count": 12,
     "metadata": {},
     "output_type": "execute_result"
    }
   ],
   "source": [
    "# 결측치 제거\n",
    "for dataset in train_test_data:\n",
    "    dataset[\"Fare\"].fillna(dataset.groupby(\"Pclass\")[\"Fare\"].transform(\"median\"), inplace=True)\n",
    "    \n",
    "# 표준화\n",
    "from sklearn.preprocessing import StandardScaler\n",
    "\n",
    "scaler = StandardScaler()\n",
    "for dataset in train_test_data:\n",
    "    array = dataset['Fare'].values.reshape(-1,1)\n",
    "    scaler.fit(array)\n",
    "    dataset['FareScale'] = pd.Series(scaler.transform(array).reshape(-1))\n",
    "    \n",
    "train.head()"
   ]
  },
  {
   "cell_type": "code",
   "execution_count": 13,
   "id": "c90b9764",
   "metadata": {
    "execution": {
     "iopub.execute_input": "2024-05-20T08:18:21.047243Z",
     "iopub.status.busy": "2024-05-20T08:18:21.046821Z",
     "iopub.status.idle": "2024-05-20T08:18:21.061164Z",
     "shell.execute_reply": "2024-05-20T08:18:21.060150Z"
    },
    "papermill": {
     "duration": 0.026307,
     "end_time": "2024-05-20T08:18:21.063689",
     "exception": false,
     "start_time": "2024-05-20T08:18:21.037382",
     "status": "completed"
    },
    "tags": []
   },
   "outputs": [
    {
     "data": {
      "text/plain": [
       "Survived       1.000000\n",
       "Sex            0.543351\n",
       "Title          0.414088\n",
       "FareScale      0.257307\n",
       "Embarked       0.106811\n",
       "FamilySize     0.016639\n",
       "PassengerId   -0.005007\n",
       "AgeScale      -0.078698\n",
       "IsAlone       -0.203367\n",
       "Pclass        -0.338481\n",
       "Name: Survived, dtype: float64"
      ]
     },
     "execution_count": 13,
     "metadata": {},
     "output_type": "execute_result"
    }
   ],
   "source": [
    "# 전처리가 끝난 특성들 제거\n",
    "drop_column = ['Name', 'Age', 'SibSp', 'Parch', 'Ticket', 'Fare', 'Cabin']\n",
    "\n",
    "for dataset in train_test_data:\n",
    "    dataset = dataset.drop(drop_column, axis=1, inplace=True)\n",
    "\n",
    "# 상관계수 계산\n",
    "corr_matrix = train.corr()\n",
    "corr_matrix[\"Survived\"].sort_values(ascending=False)"
   ]
  },
  {
   "cell_type": "code",
   "execution_count": 14,
   "id": "d33555fb",
   "metadata": {
    "execution": {
     "iopub.execute_input": "2024-05-20T08:18:21.081847Z",
     "iopub.status.busy": "2024-05-20T08:18:21.081474Z",
     "iopub.status.idle": "2024-05-20T08:18:21.096978Z",
     "shell.execute_reply": "2024-05-20T08:18:21.096109Z"
    },
    "papermill": {
     "duration": 0.027323,
     "end_time": "2024-05-20T08:18:21.099082",
     "exception": false,
     "start_time": "2024-05-20T08:18:21.071759",
     "status": "completed"
    },
    "tags": []
   },
   "outputs": [
    {
     "data": {
      "text/html": [
       "<div>\n",
       "<style scoped>\n",
       "    .dataframe tbody tr th:only-of-type {\n",
       "        vertical-align: middle;\n",
       "    }\n",
       "\n",
       "    .dataframe tbody tr th {\n",
       "        vertical-align: top;\n",
       "    }\n",
       "\n",
       "    .dataframe thead th {\n",
       "        text-align: right;\n",
       "    }\n",
       "</style>\n",
       "<table border=\"1\" class=\"dataframe\">\n",
       "  <thead>\n",
       "    <tr style=\"text-align: right;\">\n",
       "      <th></th>\n",
       "      <th>PassengerId</th>\n",
       "      <th>Survived</th>\n",
       "      <th>Pclass</th>\n",
       "      <th>Sex</th>\n",
       "      <th>Embarked</th>\n",
       "      <th>IsAlone</th>\n",
       "      <th>Title</th>\n",
       "      <th>AgeScale</th>\n",
       "      <th>FareScale</th>\n",
       "    </tr>\n",
       "  </thead>\n",
       "  <tbody>\n",
       "    <tr>\n",
       "      <th>0</th>\n",
       "      <td>1</td>\n",
       "      <td>0</td>\n",
       "      <td>3</td>\n",
       "      <td>0</td>\n",
       "      <td>0</td>\n",
       "      <td>0</td>\n",
       "      <td>0</td>\n",
       "      <td>0.271174</td>\n",
       "      <td>-0.502445</td>\n",
       "    </tr>\n",
       "    <tr>\n",
       "      <th>1</th>\n",
       "      <td>2</td>\n",
       "      <td>1</td>\n",
       "      <td>1</td>\n",
       "      <td>1</td>\n",
       "      <td>1</td>\n",
       "      <td>0</td>\n",
       "      <td>2</td>\n",
       "      <td>0.472229</td>\n",
       "      <td>0.786845</td>\n",
       "    </tr>\n",
       "    <tr>\n",
       "      <th>2</th>\n",
       "      <td>3</td>\n",
       "      <td>1</td>\n",
       "      <td>3</td>\n",
       "      <td>1</td>\n",
       "      <td>0</td>\n",
       "      <td>1</td>\n",
       "      <td>1</td>\n",
       "      <td>0.321438</td>\n",
       "      <td>-0.488854</td>\n",
       "    </tr>\n",
       "    <tr>\n",
       "      <th>3</th>\n",
       "      <td>4</td>\n",
       "      <td>1</td>\n",
       "      <td>1</td>\n",
       "      <td>1</td>\n",
       "      <td>0</td>\n",
       "      <td>0</td>\n",
       "      <td>2</td>\n",
       "      <td>0.434531</td>\n",
       "      <td>0.420730</td>\n",
       "    </tr>\n",
       "    <tr>\n",
       "      <th>4</th>\n",
       "      <td>5</td>\n",
       "      <td>0</td>\n",
       "      <td>3</td>\n",
       "      <td>0</td>\n",
       "      <td>0</td>\n",
       "      <td>1</td>\n",
       "      <td>0</td>\n",
       "      <td>0.434531</td>\n",
       "      <td>-0.486337</td>\n",
       "    </tr>\n",
       "  </tbody>\n",
       "</table>\n",
       "</div>"
      ],
      "text/plain": [
       "   PassengerId  Survived  Pclass  Sex  Embarked  IsAlone  Title  AgeScale  \\\n",
       "0            1         0       3    0         0        0      0  0.271174   \n",
       "1            2         1       1    1         1        0      2  0.472229   \n",
       "2            3         1       3    1         0        1      1  0.321438   \n",
       "3            4         1       1    1         0        0      2  0.434531   \n",
       "4            5         0       3    0         0        1      0  0.434531   \n",
       "\n",
       "   FareScale  \n",
       "0  -0.502445  \n",
       "1   0.786845  \n",
       "2  -0.488854  \n",
       "3   0.420730  \n",
       "4  -0.486337  "
      ]
     },
     "execution_count": 14,
     "metadata": {},
     "output_type": "execute_result"
    }
   ],
   "source": [
    "drop_column = ['FamilySize']\n",
    "\n",
    "for dataset in train_test_data:\n",
    "    dataset = dataset.drop(drop_column, axis=1, inplace=True)\n",
    "    \n",
    "train.head()"
   ]
  },
  {
   "cell_type": "markdown",
   "id": "7946cf11",
   "metadata": {
    "papermill": {
     "duration": 0.007865,
     "end_time": "2024-05-20T08:18:21.115147",
     "exception": false,
     "start_time": "2024-05-20T08:18:21.107282",
     "status": "completed"
    },
    "tags": []
   },
   "source": [
    "# 4. Data 분할 및 모델 설정"
   ]
  },
  {
   "cell_type": "code",
   "execution_count": 15,
   "id": "0bdc98f7",
   "metadata": {
    "execution": {
     "iopub.execute_input": "2024-05-20T08:18:21.133572Z",
     "iopub.status.busy": "2024-05-20T08:18:21.133184Z",
     "iopub.status.idle": "2024-05-20T08:18:21.222710Z",
     "shell.execute_reply": "2024-05-20T08:18:21.221480Z"
    },
    "papermill": {
     "duration": 0.101787,
     "end_time": "2024-05-20T08:18:21.225232",
     "exception": false,
     "start_time": "2024-05-20T08:18:21.123445",
     "status": "completed"
    },
    "tags": []
   },
   "outputs": [
    {
     "name": "stdout",
     "output_type": "stream",
     "text": [
      "훈련 데이터 점수 : 0.138129235668458\n",
      "교차검증 점수: [0.52704628 0.44971901 0.56089816 0.48575205 0.41053541 0.47404546\n",
      " 0.39661489 0.51929079 0.44971901 0.44971901]\n",
      "평균: 0.47233400786264773\n",
      "표준편차: 0.04930691414954007\n"
     ]
    }
   ],
   "source": [
    "# 훈련을 위한 train, target 분할\n",
    "drop_column2 = ['PassengerId', 'Survived']\n",
    "train_data = train.drop(drop_column2, axis=1)\n",
    "target = train['Survived']\n",
    "\n",
    "from sklearn.tree import DecisionTreeClassifier\n",
    "from sklearn.model_selection import cross_val_score # 교차 검증 패키지\n",
    "from sklearn.metrics import mean_squared_error\n",
    "\n",
    "clf = DecisionTreeClassifier()\n",
    "clf.fit(train_data, target) # 모델 훈련\n",
    "prediction = clf.predict(train_data) # 예측\n",
    "tree_mse = mean_squared_error(target, prediction) # 오차 계산\n",
    "tree_rmse = np.sqrt(tree_mse) \n",
    "print(\"훈련 데이터 점수 :\", tree_rmse)\n",
    "\n",
    "# 교차 검증\n",
    "scores = cross_val_score(clf, train_data, target,\n",
    "                        scoring=\"neg_mean_squared_error\", cv=10)\n",
    "tree_rmse_scores = np.sqrt(-scores)\n",
    "\n",
    "# 점수 표시 함수 작성\n",
    "def display_scores(scores):\n",
    "    print(\"교차검증 점수:\", scores)\n",
    "    print(\"평균:\", scores.mean())\n",
    "    print(\"표준편차:\", scores.std())\n",
    "\n",
    "display_scores(tree_rmse_scores)"
   ]
  },
  {
   "cell_type": "code",
   "execution_count": 16,
   "id": "77c962e8",
   "metadata": {
    "execution": {
     "iopub.execute_input": "2024-05-20T08:18:21.243964Z",
     "iopub.status.busy": "2024-05-20T08:18:21.243590Z",
     "iopub.status.idle": "2024-05-20T08:18:21.887414Z",
     "shell.execute_reply": "2024-05-20T08:18:21.886185Z"
    },
    "papermill": {
     "duration": 0.656102,
     "end_time": "2024-05-20T08:18:21.889984",
     "exception": false,
     "start_time": "2024-05-20T08:18:21.233882",
     "status": "completed"
    },
    "tags": []
   },
   "outputs": [],
   "source": [
    "score_list=[]\n",
    "kfold_score_list=[]\n",
    "for i in range(1,11):\n",
    "    clf = DecisionTreeClassifier(max_depth = i)\n",
    "    clf.fit(train_data, target)\n",
    "    prediction = clf.predict(train_data)\n",
    "    tree_mse = mean_squared_error(target, prediction)\n",
    "    tree_rmse = np.sqrt(tree_mse)\n",
    "    scores = cross_val_score(clf, train_data, target,\n",
    "                        scoring=\"neg_mean_squared_error\", cv=10)\n",
    "    tree_rmse_scores = np.sqrt(-scores)\n",
    "    score_list.append(tree_rmse)\n",
    "    kfold_score_list.append(tree_rmse_scores.mean())"
   ]
  },
  {
   "cell_type": "code",
   "execution_count": 17,
   "id": "7a24899d",
   "metadata": {
    "execution": {
     "iopub.execute_input": "2024-05-20T08:18:21.909253Z",
     "iopub.status.busy": "2024-05-20T08:18:21.908856Z",
     "iopub.status.idle": "2024-05-20T08:18:21.919941Z",
     "shell.execute_reply": "2024-05-20T08:18:21.918811Z"
    },
    "papermill": {
     "duration": 0.023147,
     "end_time": "2024-05-20T08:18:21.922320",
     "exception": false,
     "start_time": "2024-05-20T08:18:21.899173",
     "status": "completed"
    },
    "tags": []
   },
   "outputs": [
    {
     "data": {
      "text/html": [
       "<div>\n",
       "<style scoped>\n",
       "    .dataframe tbody tr th:only-of-type {\n",
       "        vertical-align: middle;\n",
       "    }\n",
       "\n",
       "    .dataframe tbody tr th {\n",
       "        vertical-align: top;\n",
       "    }\n",
       "\n",
       "    .dataframe thead th {\n",
       "        text-align: right;\n",
       "    }\n",
       "</style>\n",
       "<table border=\"1\" class=\"dataframe\">\n",
       "  <thead>\n",
       "    <tr style=\"text-align: right;\">\n",
       "      <th></th>\n",
       "      <th>훈련 세트 점수</th>\n",
       "      <th>교차 검증 점수</th>\n",
       "    </tr>\n",
       "  </thead>\n",
       "  <tbody>\n",
       "    <tr>\n",
       "      <th>1</th>\n",
       "      <td>0.466619</td>\n",
       "      <td>0.465002</td>\n",
       "    </tr>\n",
       "    <tr>\n",
       "      <th>2</th>\n",
       "      <td>0.459346</td>\n",
       "      <td>0.457680</td>\n",
       "    </tr>\n",
       "    <tr>\n",
       "      <th>3</th>\n",
       "      <td>0.408935</td>\n",
       "      <td>0.417801</td>\n",
       "    </tr>\n",
       "    <tr>\n",
       "      <th>4</th>\n",
       "      <td>0.383439</td>\n",
       "      <td>0.412000</td>\n",
       "    </tr>\n",
       "    <tr>\n",
       "      <th>5</th>\n",
       "      <td>0.376051</td>\n",
       "      <td>0.420415</td>\n",
       "    </tr>\n",
       "    <tr>\n",
       "      <th>6</th>\n",
       "      <td>0.356123</td>\n",
       "      <td>0.412391</td>\n",
       "    </tr>\n",
       "    <tr>\n",
       "      <th>7</th>\n",
       "      <td>0.321333</td>\n",
       "      <td>0.419620</td>\n",
       "    </tr>\n",
       "    <tr>\n",
       "      <th>8</th>\n",
       "      <td>0.299644</td>\n",
       "      <td>0.427550</td>\n",
       "    </tr>\n",
       "    <tr>\n",
       "      <th>9</th>\n",
       "      <td>0.265908</td>\n",
       "      <td>0.421851</td>\n",
       "    </tr>\n",
       "    <tr>\n",
       "      <th>10</th>\n",
       "      <td>0.227217</td>\n",
       "      <td>0.438541</td>\n",
       "    </tr>\n",
       "  </tbody>\n",
       "</table>\n",
       "</div>"
      ],
      "text/plain": [
       "    훈련 세트 점수  교차 검증 점수\n",
       "1   0.466619  0.465002\n",
       "2   0.459346  0.457680\n",
       "3   0.408935  0.417801\n",
       "4   0.383439  0.412000\n",
       "5   0.376051  0.420415\n",
       "6   0.356123  0.412391\n",
       "7   0.321333  0.419620\n",
       "8   0.299644  0.427550\n",
       "9   0.265908  0.421851\n",
       "10  0.227217  0.438541"
      ]
     },
     "execution_count": 17,
     "metadata": {},
     "output_type": "execute_result"
    }
   ],
   "source": [
    "score_data = {'훈련 세트 점수' : score_list, '교차 검증 점수' : kfold_score_list}\n",
    "score_data_frame = pd.DataFrame(score_data, index=range(1,11))\n",
    "score_data_frame"
   ]
  },
  {
   "cell_type": "code",
   "execution_count": 18,
   "id": "b843568e",
   "metadata": {
    "execution": {
     "iopub.execute_input": "2024-05-20T08:18:21.941851Z",
     "iopub.status.busy": "2024-05-20T08:18:21.941479Z",
     "iopub.status.idle": "2024-05-20T08:18:22.573954Z",
     "shell.execute_reply": "2024-05-20T08:18:22.572495Z"
    },
    "papermill": {
     "duration": 0.645478,
     "end_time": "2024-05-20T08:18:22.576746",
     "exception": false,
     "start_time": "2024-05-20T08:18:21.931268",
     "status": "completed"
    },
    "tags": []
   },
   "outputs": [],
   "source": [
    "score_list=[]\n",
    "kfold_score_list=[]\n",
    "for i in range(1,11):\n",
    "    clf = DecisionTreeClassifier(max_depth = 4, min_samples_leaf = i)\n",
    "    clf.fit(train_data, target)\n",
    "    prediction = clf.predict(train_data)\n",
    "    tree_mse = mean_squared_error(target, prediction)\n",
    "    tree_rmse = np.sqrt(tree_mse)\n",
    "    scores = cross_val_score(clf, train_data, target,\n",
    "                        scoring=\"neg_mean_squared_error\", cv=10)\n",
    "    tree_rmse_scores = np.sqrt(-scores)\n",
    "    score_list.append(tree_rmse)\n",
    "    kfold_score_list.append(tree_rmse_scores.mean())"
   ]
  },
  {
   "cell_type": "code",
   "execution_count": 19,
   "id": "c7ee0af1",
   "metadata": {
    "execution": {
     "iopub.execute_input": "2024-05-20T08:18:22.604155Z",
     "iopub.status.busy": "2024-05-20T08:18:22.603311Z",
     "iopub.status.idle": "2024-05-20T08:18:22.618564Z",
     "shell.execute_reply": "2024-05-20T08:18:22.617006Z"
    },
    "papermill": {
     "duration": 0.031837,
     "end_time": "2024-05-20T08:18:22.621431",
     "exception": false,
     "start_time": "2024-05-20T08:18:22.589594",
     "status": "completed"
    },
    "tags": []
   },
   "outputs": [
    {
     "data": {
      "text/html": [
       "<div>\n",
       "<style scoped>\n",
       "    .dataframe tbody tr th:only-of-type {\n",
       "        vertical-align: middle;\n",
       "    }\n",
       "\n",
       "    .dataframe tbody tr th {\n",
       "        vertical-align: top;\n",
       "    }\n",
       "\n",
       "    .dataframe thead th {\n",
       "        text-align: right;\n",
       "    }\n",
       "</style>\n",
       "<table border=\"1\" class=\"dataframe\">\n",
       "  <thead>\n",
       "    <tr style=\"text-align: right;\">\n",
       "      <th></th>\n",
       "      <th>훈련 세트 점수</th>\n",
       "      <th>교차 검증 점수</th>\n",
       "    </tr>\n",
       "  </thead>\n",
       "  <tbody>\n",
       "    <tr>\n",
       "      <th>1</th>\n",
       "      <td>0.383439</td>\n",
       "      <td>0.412000</td>\n",
       "    </tr>\n",
       "    <tr>\n",
       "      <th>2</th>\n",
       "      <td>0.383439</td>\n",
       "      <td>0.412000</td>\n",
       "    </tr>\n",
       "    <tr>\n",
       "      <th>3</th>\n",
       "      <td>0.386355</td>\n",
       "      <td>0.412000</td>\n",
       "    </tr>\n",
       "    <tr>\n",
       "      <th>4</th>\n",
       "      <td>0.386355</td>\n",
       "      <td>0.412000</td>\n",
       "    </tr>\n",
       "    <tr>\n",
       "      <th>5</th>\n",
       "      <td>0.387805</td>\n",
       "      <td>0.412057</td>\n",
       "    </tr>\n",
       "    <tr>\n",
       "      <th>6</th>\n",
       "      <td>0.389249</td>\n",
       "      <td>0.410752</td>\n",
       "    </tr>\n",
       "    <tr>\n",
       "      <th>7</th>\n",
       "      <td>0.390688</td>\n",
       "      <td>0.412694</td>\n",
       "    </tr>\n",
       "    <tr>\n",
       "      <th>8</th>\n",
       "      <td>0.400617</td>\n",
       "      <td>0.411195</td>\n",
       "    </tr>\n",
       "    <tr>\n",
       "      <th>9</th>\n",
       "      <td>0.400617</td>\n",
       "      <td>0.412288</td>\n",
       "    </tr>\n",
       "    <tr>\n",
       "      <th>10</th>\n",
       "      <td>0.400617</td>\n",
       "      <td>0.412288</td>\n",
       "    </tr>\n",
       "  </tbody>\n",
       "</table>\n",
       "</div>"
      ],
      "text/plain": [
       "    훈련 세트 점수  교차 검증 점수\n",
       "1   0.383439  0.412000\n",
       "2   0.383439  0.412000\n",
       "3   0.386355  0.412000\n",
       "4   0.386355  0.412000\n",
       "5   0.387805  0.412057\n",
       "6   0.389249  0.410752\n",
       "7   0.390688  0.412694\n",
       "8   0.400617  0.411195\n",
       "9   0.400617  0.412288\n",
       "10  0.400617  0.412288"
      ]
     },
     "execution_count": 19,
     "metadata": {},
     "output_type": "execute_result"
    }
   ],
   "source": [
    "score_data = {'훈련 세트 점수' : score_list, '교차 검증 점수' : kfold_score_list}\n",
    "score_data_frame = pd.DataFrame(score_data, index=range(1,11))\n",
    "score_data_frame"
   ]
  },
  {
   "cell_type": "markdown",
   "id": "69bb1ad5",
   "metadata": {
    "papermill": {
     "duration": 0.008838,
     "end_time": "2024-05-20T08:18:22.639217",
     "exception": false,
     "start_time": "2024-05-20T08:18:22.630379",
     "status": "completed"
    },
    "tags": []
   },
   "source": [
    "# Model 학습"
   ]
  },
  {
   "cell_type": "code",
   "execution_count": 20,
   "id": "d4f49afe",
   "metadata": {
    "execution": {
     "iopub.execute_input": "2024-05-20T08:18:22.658601Z",
     "iopub.status.busy": "2024-05-20T08:18:22.658164Z",
     "iopub.status.idle": "2024-05-20T08:18:22.674901Z",
     "shell.execute_reply": "2024-05-20T08:18:22.673696Z"
    },
    "papermill": {
     "duration": 0.029568,
     "end_time": "2024-05-20T08:18:22.677732",
     "exception": false,
     "start_time": "2024-05-20T08:18:22.648164",
     "status": "completed"
    },
    "tags": []
   },
   "outputs": [],
   "source": [
    "# 모델 훈련\n",
    "clf = DecisionTreeClassifier(max_depth=4, min_samples_leaf=6)\n",
    "clf.fit(train_data, target)\n",
    "test_data = test.drop(\"PassengerId\", axis=1)\n",
    "predict = clf.predict(test_data)\n",
    "\n",
    "# 예측 결과 저장\n",
    "submission = pd.DataFrame({\n",
    "    'PassengerId' : test['PassengerId'],\n",
    "    'Survived' : predict})\n",
    "\n",
    "submission.to_csv('submission_titanic.csv', index=False)"
   ]
  }
 ],
 "metadata": {
  "kaggle": {
   "accelerator": "none",
   "dataSources": [
    {
     "databundleVersionId": 26502,
     "sourceId": 3136,
     "sourceType": "competition"
    }
   ],
   "dockerImageVersionId": 30664,
   "isGpuEnabled": false,
   "isInternetEnabled": false,
   "language": "python",
   "sourceType": "notebook"
  },
  "kernelspec": {
   "display_name": "Python 3",
   "language": "python",
   "name": "python3"
  },
  "language_info": {
   "codemirror_mode": {
    "name": "ipython",
    "version": 3
   },
   "file_extension": ".py",
   "mimetype": "text/x-python",
   "name": "python",
   "nbconvert_exporter": "python",
   "pygments_lexer": "ipython3",
   "version": "3.10.13"
  },
  "papermill": {
   "default_parameters": {},
   "duration": 8.89042,
   "end_time": "2024-05-20T08:18:23.308337",
   "environment_variables": {},
   "exception": null,
   "input_path": "__notebook__.ipynb",
   "output_path": "__notebook__.ipynb",
   "parameters": {},
   "start_time": "2024-05-20T08:18:14.417917",
   "version": "2.5.0"
  }
 },
 "nbformat": 4,
 "nbformat_minor": 5
}
